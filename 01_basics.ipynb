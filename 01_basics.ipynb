{
 "cells": [
  {
   "cell_type": "code",
   "execution_count": 1,
   "metadata": {
    "collapsed": true,
    "pycharm": {
     "name": "#%%\n"
    }
   },
   "outputs": [],
   "source": [
    "import pandas as pd"
   ]
  },
  {
   "cell_type": "code",
   "execution_count": 2,
   "outputs": [],
   "source": [
    "df = pd.read_csv(\"./datasets/homelessness.csv\")"
   ],
   "metadata": {
    "collapsed": false,
    "pycharm": {
     "name": "#%%\n"
    }
   }
  },
  {
   "cell_type": "code",
   "execution_count": 4,
   "outputs": [
    {
     "data": {
      "text/plain": "       Unnamed: 0    individuals  family_members     state_pop\ncount   51.000000      51.000000       51.000000  5.100000e+01\nmean    25.000000    7225.784314     3504.882353  6.405637e+06\nstd     14.866069   15991.025083     7805.411811  7.327258e+06\nmin      0.000000     434.000000       75.000000  5.776010e+05\n25%     12.500000    1446.500000      592.000000  1.777414e+06\n50%     25.000000    3082.000000     1482.000000  4.461153e+06\n75%     37.500000    6781.500000     3196.000000  7.340946e+06\nmax     50.000000  109008.000000    52070.000000  3.946159e+07",
      "text/html": "<div>\n<style scoped>\n    .dataframe tbody tr th:only-of-type {\n        vertical-align: middle;\n    }\n\n    .dataframe tbody tr th {\n        vertical-align: top;\n    }\n\n    .dataframe thead th {\n        text-align: right;\n    }\n</style>\n<table border=\"1\" class=\"dataframe\">\n  <thead>\n    <tr style=\"text-align: right;\">\n      <th></th>\n      <th>Unnamed: 0</th>\n      <th>individuals</th>\n      <th>family_members</th>\n      <th>state_pop</th>\n    </tr>\n  </thead>\n  <tbody>\n    <tr>\n      <th>count</th>\n      <td>51.000000</td>\n      <td>51.000000</td>\n      <td>51.000000</td>\n      <td>5.100000e+01</td>\n    </tr>\n    <tr>\n      <th>mean</th>\n      <td>25.000000</td>\n      <td>7225.784314</td>\n      <td>3504.882353</td>\n      <td>6.405637e+06</td>\n    </tr>\n    <tr>\n      <th>std</th>\n      <td>14.866069</td>\n      <td>15991.025083</td>\n      <td>7805.411811</td>\n      <td>7.327258e+06</td>\n    </tr>\n    <tr>\n      <th>min</th>\n      <td>0.000000</td>\n      <td>434.000000</td>\n      <td>75.000000</td>\n      <td>5.776010e+05</td>\n    </tr>\n    <tr>\n      <th>25%</th>\n      <td>12.500000</td>\n      <td>1446.500000</td>\n      <td>592.000000</td>\n      <td>1.777414e+06</td>\n    </tr>\n    <tr>\n      <th>50%</th>\n      <td>25.000000</td>\n      <td>3082.000000</td>\n      <td>1482.000000</td>\n      <td>4.461153e+06</td>\n    </tr>\n    <tr>\n      <th>75%</th>\n      <td>37.500000</td>\n      <td>6781.500000</td>\n      <td>3196.000000</td>\n      <td>7.340946e+06</td>\n    </tr>\n    <tr>\n      <th>max</th>\n      <td>50.000000</td>\n      <td>109008.000000</td>\n      <td>52070.000000</td>\n      <td>3.946159e+07</td>\n    </tr>\n  </tbody>\n</table>\n</div>"
     },
     "execution_count": 4,
     "metadata": {},
     "output_type": "execute_result"
    }
   ],
   "source": [
    "df.describe()"
   ],
   "metadata": {
    "collapsed": false,
    "pycharm": {
     "name": "#%%\n"
    }
   }
  }
 ],
 "metadata": {
  "kernelspec": {
   "display_name": "Python 3",
   "language": "python",
   "name": "python3"
  },
  "language_info": {
   "codemirror_mode": {
    "name": "ipython",
    "version": 2
   },
   "file_extension": ".py",
   "mimetype": "text/x-python",
   "name": "python",
   "nbconvert_exporter": "python",
   "pygments_lexer": "ipython2",
   "version": "2.7.6"
  }
 },
 "nbformat": 4,
 "nbformat_minor": 0
}